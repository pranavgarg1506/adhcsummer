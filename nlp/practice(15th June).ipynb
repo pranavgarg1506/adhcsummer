{
 "cells": [
  {
   "cell_type": "code",
   "execution_count": 23,
   "metadata": {},
   "outputs": [
    {
     "name": "stdout",
     "output_type": "stream",
     "text": [
      "5.0\n",
      "None\n",
      "10.2\n",
      "Path(array([[0., 0.],\n",
      "       [1., 0.],\n",
      "       [1., 1.],\n",
      "       [0., 1.],\n",
      "       [0., 0.]]), array([ 1,  2,  2,  2, 79], dtype=uint8))\n",
      "40\n",
      "40\n",
      "Bbox(x0=100.0, y0=100.0, x1=140.0, y1=140.0)\n",
      "100\n",
      "(100, 100)\n",
      "100\n",
      "Rectangle(xy=(100, 100), width=40, height=40, angle=0)\n"
     ]
    }
   ],
   "source": [
    "from matplotlib.patches import Circle,Rectangle,Wedge\n",
    "import matplotlib.pyplot as plt\n",
    "\n",
    "circle = Circle((100,100),5)\n",
    "print(circle.get_radius())\n",
    "print(circle.set_radius(10.2))\n",
    "print(circle.get_radius())\n",
    "\n",
    "rec = Rectangle((100,100),40,40)\n",
    "print(rec.get_path())\n",
    "print(rec.get_width())\n",
    "print(rec.get_height())\n",
    "print(rec.get_bbox())\n",
    "print(rec.get_x())\n",
    "print(rec.get_xy())\n",
    "print(rec.get_y())\n",
    "print(rec)"
   ]
  },
  {
   "cell_type": "code",
   "execution_count": 16,
   "metadata": {},
   "outputs": [
    {
     "name": "stdout",
     "output_type": "stream",
     "text": [
      "[[0.2 0.2]\n",
      " [0.2 0.5]\n",
      " [0.2 0.8]\n",
      " [0.5 0.2]\n",
      " [0.5 0.5]\n",
      " [0.5 0.8]\n",
      " [0.8 0.2]\n",
      " [0.8 0.5]\n",
      " [0.8 0.8]]\n"
     ]
    }
   ],
   "source": [
    "import numpy as np\n",
    "import matplotlib.patches as mpatches\n",
    "\n",
    "grid = np.mgrid[0.2:0.8:3j, 0.2:0.8:3j].reshape(2,-1).T\n",
    "#print(grid)"
   ]
  },
  {
   "cell_type": "code",
   "execution_count": null,
   "metadata": {},
   "outputs": [],
   "source": []
  },
  {
   "cell_type": "code",
   "execution_count": null,
   "metadata": {},
   "outputs": [],
   "source": []
  }
 ],
 "metadata": {
  "kernelspec": {
   "display_name": "Python 3",
   "language": "python",
   "name": "python3"
  },
  "language_info": {
   "codemirror_mode": {
    "name": "ipython",
    "version": 3
   },
   "file_extension": ".py",
   "mimetype": "text/x-python",
   "name": "python",
   "nbconvert_exporter": "python",
   "pygments_lexer": "ipython3",
   "version": "3.6.5"
  }
 },
 "nbformat": 4,
 "nbformat_minor": 2
}
